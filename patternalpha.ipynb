{
  "nbformat": 4,
  "nbformat_minor": 0,
  "metadata": {
    "colab": {
      "name": "patternalpha.ipynb",
      "provenance": [],
      "collapsed_sections": [],
      "authorship_tag": "ABX9TyOboNpQqKYXId44KpZP0XYq",
      "include_colab_link": true
    },
    "kernelspec": {
      "name": "python3",
      "display_name": "Python 3"
    },
    "language_info": {
      "name": "python"
    }
  },
  "cells": [
    {
      "cell_type": "markdown",
      "metadata": {
        "id": "view-in-github",
        "colab_type": "text"
      },
      "source": [
        "<a href=\"https://colab.research.google.com/github/Raghu0461/kedargit/blob/main/patternalpha.ipynb\" target=\"_parent\"><img src=\"https://colab.research.google.com/assets/colab-badge.svg\" alt=\"Open In Colab\"/></a>"
      ]
    },
    {
      "cell_type": "code",
      "execution_count": null,
      "metadata": {
        "colab": {
          "base_uri": "https://localhost:8080/"
        },
        "id": "Vca2HToPuXFc",
        "outputId": "71dcc6dd-62ec-478b-cfd7-dd3c6263bf39"
      },
      "outputs": [
        {
          "output_type": "stream",
          "name": "stdout",
          "text": [
            "0\n",
            "1\n",
            "2\n",
            "3\n",
            "4\n",
            "5\n"
          ]
        }
      ],
      "source": [
        "for row in range(6):\n",
        "  print(row)"
      ]
    },
    {
      "cell_type": "code",
      "source": [
        "n=5;\n",
        "for row in range(n):\n",
        "  for col in range(0,row+1):\n",
        "     print(\"* \",end=\"\")\n",
        "  print('\\r')\n"
      ],
      "metadata": {
        "colab": {
          "base_uri": "https://localhost:8080/"
        },
        "id": "L33IT4sduzhp",
        "outputId": "42478906-e729-4502-fd23-c81a3623d617"
      },
      "execution_count": null,
      "outputs": [
        {
          "output_type": "stream",
          "name": "stdout",
          "text": [
            "* \r\n",
            "* * \r\n",
            "* * * \r\n",
            "* * * * \r\n",
            "* * * * * \r\n"
          ]
        }
      ]
    },
    {
      "cell_type": "code",
      "source": [
        ""
      ],
      "metadata": {
        "id": "2g7Vh3BtwV2e"
      },
      "execution_count": null,
      "outputs": []
    },
    {
      "cell_type": "code",
      "source": [
        "\n",
        "for row in range (6):\n",
        "  for col in range(6):\n",
        "    if(col==0 or col==4) or ((row==0 or row==3) and (col>0 and col<4)):\n",
        "      print(\"*\",end=\"\")\n",
        "    else:\n",
        "      print(end=\" \")\n",
        "  print(\"\\r\")\n"
      ],
      "metadata": {
        "colab": {
          "base_uri": "https://localhost:8080/"
        },
        "id": "M2zGIL400nyb",
        "outputId": "6498d12e-eff0-4fc3-d509-93e7affbb0ff"
      },
      "execution_count": null,
      "outputs": [
        {
          "output_type": "stream",
          "name": "stdout",
          "text": [
            "***** \r\n",
            "*   * \r\n",
            "*   * \r\n",
            "***** \r\n",
            "*   * \r\n",
            "*   * \r\n"
          ]
        }
      ]
    },
    {
      "cell_type": "code",
      "source": [
        "for row in range(6):\n",
        "  for col in range(6):\n",
        "    if(col==0 or col==5) or (col==row):\n",
        "      print(\"*\",end=\"\")\n",
        "    else:\n",
        "      print(end=\" \")\n",
        "  print(\"\\r\")"
      ],
      "metadata": {
        "colab": {
          "base_uri": "https://localhost:8080/"
        },
        "id": "qayqY6kk36p2",
        "outputId": "e5ca0252-596a-4087-ce93-be41d2972734"
      },
      "execution_count": null,
      "outputs": [
        {
          "output_type": "stream",
          "name": "stdout",
          "text": [
            "*    *\r\n",
            "**   *\r\n",
            "* *  *\r\n",
            "*  * *\r\n",
            "*   **\r\n",
            "*    *\r\n"
          ]
        }
      ]
    },
    {
      "cell_type": "code",
      "source": [
        "for row in range(6):\n",
        "  for col in range(6):\n",
        "    if(row==5) or ((col==0 or col==5) and row!=5):\n",
        "      print(\"*\",end=\"\")\n",
        "    else:\n",
        "      print(end=\" \")\n",
        "  print(\"\\r\")"
      ],
      "metadata": {
        "colab": {
          "base_uri": "https://localhost:8080/"
        },
        "id": "By3B-Dkc8om_",
        "outputId": "e6715ef5-d72e-4f99-9d17-cf9c3a1cd4f7"
      },
      "execution_count": null,
      "outputs": [
        {
          "output_type": "stream",
          "name": "stdout",
          "text": [
            "*    *\r\n",
            "*    *\r\n",
            "*    *\r\n",
            "*    *\r\n",
            "*    *\r\n",
            "******\r\n"
          ]
        }
      ]
    },
    {
      "cell_type": "code",
      "source": [
        "for row in range (6):\n",
        "  for col in range(20):\n",
        "    if(col==0 or col==1 or col==2 or col==3 or col==4 or col==5):\n",
        "      if(col==0 or col==5) or ((row==0 or row==3) and (col>0 and col<5)):\n",
        "        print(\"A\",end=\"\")\n",
        "      else:\n",
        "        print(end=\" \") \n",
        "    elif(col==6 or col==7 or col==8 or col==9 or col==10 or col==11 or col==12 or col==13):\n",
        "      if(col==7 or col==12) or (col==row+7):\n",
        "        print(\"N\",end=\"\") \n",
        "      else:\n",
        "        print(end=\" \")\n",
        "    else:  \n",
        "      if(row==5) or ((col==14 or col==19) and row!=5):\n",
        "        print(\"U\",end=\"\")\n",
        "      else:\n",
        "        print(end=\" \")\n",
        "  print(\"\\r\")"
      ],
      "metadata": {
        "colab": {
          "base_uri": "https://localhost:8080/"
        },
        "id": "Xqbt0ud3MByM",
        "outputId": "7d530594-84d7-462d-8eb3-f2ff5e2c0862"
      },
      "execution_count": null,
      "outputs": [
        {
          "output_type": "stream",
          "name": "stdout",
          "text": [
            "AAAAAA N    N U    U\r\n",
            "A    A NN   N U    U\r\n",
            "A    A N N  N U    U\r\n",
            "AAAAAA N  N N U    U\r\n",
            "A    A N   NN U    U\r\n",
            "A    A N    N UUUUUU\r\n"
          ]
        }
      ]
    },
    {
      "cell_type": "code",
      "source": [
        "for row in range (6):\n",
        "  for col in range(20):\n",
        "    if(col>=0 and col<=5):\n",
        "      if(col==0 or col==5) or ((row==0 or row==3) and (col>0 and col<5)):\n",
        "        print(\"*\",end=\"\")\n",
        "      else:\n",
        "        print(end=\" \") \n",
        "    elif(col>=6 and col<=13):\n",
        "      if(col==7 or col==12) or (col==row+7):\n",
        "        print(\"*\",end=\"\") \n",
        "      else:\n",
        "        print(end=\" \")\n",
        "    else:  \n",
        "      if(row==5) or ((col==14 or col==19) and row!=5):\n",
        "        print(\"*\",end=\"\")\n",
        "      else:\n",
        "        print(end=\" \")\n",
        "  print(\"\\r\")"
      ],
      "metadata": {
        "colab": {
          "base_uri": "https://localhost:8080/"
        },
        "id": "cVhrL0JCTKSB",
        "outputId": "50fd17eb-deb4-49bd-b602-c5ace5a949d7"
      },
      "execution_count": null,
      "outputs": [
        {
          "output_type": "stream",
          "name": "stdout",
          "text": [
            "****** *    * *    *\r\n",
            "*    * **   * *    *\r\n",
            "*    * * *  * *    *\r\n",
            "****** *  * * *    *\r\n",
            "*    * *   ** *    *\r\n",
            "*    * *    * ******\r\n"
          ]
        }
      ]
    },
    {
      "cell_type": "code",
      "source": [
        " for row in range(6):\n",
        "  for col in range(7):\n",
        "    if(row==0 and col%3!=0) or (row==1 and col%3==0) or (row-col==2) or (row+col==8):\n",
        "      print(\"*\",end=\"\")\n",
        "    else:\n",
        "      print(end=\" \")\n",
        "  print(\"\\r\")"
      ],
      "metadata": {
        "colab": {
          "base_uri": "https://localhost:8080/"
        },
        "id": "UwCz1uwhVZnK",
        "outputId": "171cd340-99e5-45ce-aba2-42eebef1a0d9"
      },
      "execution_count": null,
      "outputs": [
        {
          "output_type": "stream",
          "name": "stdout",
          "text": [
            " ** ** \r\n",
            "*  *  *\r\n",
            "*     *\r\n",
            " *   * \r\n",
            "  * *  \r\n",
            "   *   \r\n"
          ]
        }
      ]
    },
    {
      "cell_type": "code",
      "source": [
        "for row in range (6):\n",
        "  for col in range(28):\n",
        "    if(col>=0 and col<=5):\n",
        "      if(col==0 or col==5) or ((row==0 or row==3) and (col>0 and col<5)):\n",
        "        print(\"*\",end=\"\")\n",
        "      else:\n",
        "        print(end=\" \") \n",
        "    elif(col>=6 and col<=13):\n",
        "      if(col==7 or col==12) or (col==row+7):\n",
        "        print(\"*\",end=\"\") \n",
        "      else:\n",
        "        print(end=\" \")\n",
        "    elif(col>=14 and col<=20):\n",
        "      if(row==5 and col!=20) or ((col==14 or col==19) and row!=5):\n",
        "        print(\"*\",end=\"\")\n",
        "      else:\n",
        "        print(end=\" \")\n",
        "    else:\n",
        "      if(row==0 and col%3!=0) or (row==1 and col%3==0) or (col-row==19) or (row+col==29):\n",
        "        print(\"*\",end=\"\")\n",
        "      else:\n",
        "        print(end=\" \")\n",
        "  print(\"\\r\")"
      ],
      "metadata": {
        "colab": {
          "base_uri": "https://localhost:8080/"
        },
        "id": "1Xlt2BT8Z37e",
        "outputId": "1d8f85f1-b98c-47e4-d5ec-9dfed69afb2f"
      },
      "execution_count": null,
      "outputs": [
        {
          "output_type": "stream",
          "name": "stdout",
          "text": [
            "****** *    * *    *  ** ** \r\n",
            "*    * **   * *    * *  *  *\r\n",
            "*    * * *  * *    * *     *\r\n",
            "****** *  * * *    *  *   * \r\n",
            "*    * *   ** *    *   * *  \r\n",
            "*    * *    * ******    *   \r\n"
          ]
        }
      ]
    },
    {
      "cell_type": "code",
      "source": [
        "for row in range(4):\n",
        "  for col in range(7):\n",
        "    if(row==col) or (row+col==6):\n",
        "      print(\"v\",end=\"\")\n",
        "    else:\n",
        "      print(end=\" \")\n",
        "  print(\"\\r\")"
      ],
      "metadata": {
        "colab": {
          "base_uri": "https://localhost:8080/"
        },
        "id": "B2oImHO3mbX_",
        "outputId": "aebc9ed0-273d-4ce7-dfde-e423ad4d57ef"
      },
      "execution_count": null,
      "outputs": [
        {
          "output_type": "stream",
          "name": "stdout",
          "text": [
            "v     v\r\n",
            " v   v \r\n",
            "  v v  \r\n",
            "   v   \r\n"
          ]
        }
      ]
    },
    {
      "cell_type": "code",
      "source": [
        "for row in range(4):\n",
        "  for col in range(4):\n",
        "    if(col==1) or (col==0 and row!=0 and row!=1):\n",
        "      print(\"J\",end=\"\")\n",
        "    else:\n",
        "      print(end=\" \")\n",
        "  print(\"\\r\")"
      ],
      "metadata": {
        "colab": {
          "base_uri": "https://localhost:8080/"
        },
        "id": "objUa3T1pBDT",
        "outputId": "dd6dd8af-2411-47d7-e2ff-a5068dd31309"
      },
      "execution_count": null,
      "outputs": [
        {
          "output_type": "stream",
          "name": "stdout",
          "text": [
            " J  \r\n",
            " J  \r\n",
            "JJ  \r\n",
            "JJ  \r\n"
          ]
        }
      ]
    },
    {
      "cell_type": "code",
      "source": [
        "for row in range (6):\n",
        "  for col in range(6):\n",
        "    if(col>=0 and col<=5):\n",
        "      if(col==0 or col==5) or ((row==0 or row==3) and (col>0 and col<5)):\n",
        "        print(\"*\",end=\"\")\n",
        "      else:\n",
        "        print(end=\" \")\n",
        "  print(\"\\r\")"
      ],
      "metadata": {
        "colab": {
          "base_uri": "https://localhost:8080/"
        },
        "id": "ie034e83qEEx",
        "outputId": "821d7da6-24b0-4598-aee6-60553ec763bb"
      },
      "execution_count": null,
      "outputs": [
        {
          "output_type": "stream",
          "name": "stdout",
          "text": [
            "******\r\n",
            "*    *\r\n",
            "*    *\r\n",
            "******\r\n",
            "*    *\r\n",
            "*    *\r\n"
          ]
        }
      ]
    },
    {
      "cell_type": "code",
      "source": [
        "for row in range (5):\n",
        "  for col in range(5):\n",
        "    if(row==2) or (row==1 and (col==1 or col==2)) or (row==0 and col==2) or (row==3 and (col==0 or col==4)):\n",
        "        print(\"A\",end=\"\")\n",
        "    else:\n",
        "        print(end=\" \")\n",
        "  print(\"\\r\")"
      ],
      "metadata": {
        "colab": {
          "base_uri": "https://localhost:8080/"
        },
        "id": "gcW-sYr2qgvi",
        "outputId": "afa23fce-cd7c-4407-afbb-d0c2923b9966"
      },
      "execution_count": null,
      "outputs": [
        {
          "output_type": "stream",
          "name": "stdout",
          "text": [
            "  A  \r\n",
            " AA  \r\n",
            "AAAAA\r\n",
            "A   A\r\n",
            "     \r\n"
          ]
        }
      ]
    },
    {
      "cell_type": "code",
      "source": [
        "for row in range (5):\n",
        "  for col in range(5):\n",
        "    if(row==2) or (row==1 and (col==1 or col==2)) or (row==0 and col==2) or (row==3 and (col==0 or col==4)):\n",
        "        print(\"A\",end=\"\")\n",
        "    else:\n",
        "        print(end=\" \")\n",
        "  print(\"\\r\")"
      ],
      "metadata": {
        "id": "2lBn8yWqslXF"
      },
      "execution_count": null,
      "outputs": []
    },
    {
      "cell_type": "code",
      "source": [
        "for row in range (4):\n",
        "  for col in range(22):\n",
        "    if(col>=0 and col<=2):\n",
        "      if(col==1) or (col==0 and row!=0 and row!=1):\n",
        "        print(\"J\",end=\"\")\n",
        "      else:\n",
        "        print(end=\" \") \n",
        "    elif(col>=3 and col<=8):\n",
        "      if(row==2 and col!=8) or (row==1 and (col==4 or col==5)) or (row==0 and col==5) or (row==3 and (col==3 or col==7)):\n",
        "        print(\"A\",end=\"\") \n",
        "      else:\n",
        "        print(end=\" \")\n",
        "    elif(col>=9 and col<=16):  \n",
        "      if(row+9==col) or (row+col==15):\n",
        "        print(\"V\",end=\"\")\n",
        "      else:\n",
        "        print(end=\" \")\n",
        "    else:\n",
        "      if(row==2) or (row==1 and (col==18 or col==19)) or (row==0 and col==19) or (row==3 and (col==17 or col==21)):\n",
        "        print(\"A\",end=\"\") \n",
        "      else:\n",
        "        print(end=\" \")\n",
        "  print(\"\\r\")"
      ],
      "metadata": {
        "colab": {
          "base_uri": "https://localhost:8080/"
        },
        "id": "RfVh4y38t7sz",
        "outputId": "2e0dda43-91c7-4771-b640-f519252a84b2"
      },
      "execution_count": null,
      "outputs": [
        {
          "output_type": "stream",
          "name": "stdout",
          "text": [
            " J   A   V     V   A  \r\n",
            " J  AA    V   V   AA  \r\n",
            "JJ AAAAA   V V   AAAAA\r\n",
            "JJ A   A    V    A   A\r\n"
          ]
        }
      ]
    },
    {
      "cell_type": "code",
      "source": [
        "width=float(input(\"enter width:\"))\n",
        "height=float(input(\"enter height:\"))\n",
        "area=width*height\n",
        "perimeter=(2*width)+(2*height)\n",
        "print(area)\n",
        "print(perimeter)"
      ],
      "metadata": {
        "id": "HKFgmkqog36T",
        "colab": {
          "base_uri": "https://localhost:8080/"
        },
        "outputId": "2f17dc81-cf1c-47e3-a1ab-dfe7a11aa067"
      },
      "execution_count": null,
      "outputs": [
        {
          "output_type": "stream",
          "name": "stdout",
          "text": [
            "enter width:5.5\n",
            "enter height:2.2\n",
            "12.100000000000001\n",
            "15.4\n"
          ]
        }
      ]
    }
  ]
}